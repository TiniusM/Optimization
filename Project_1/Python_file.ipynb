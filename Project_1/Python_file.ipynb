{
 "cells": [
  {
   "cell_type": "markdown",
   "metadata": {},
   "source": [
    "# Optimisation – Project 1"
   ]
  },
  {
   "cell_type": "markdown",
   "metadata": {},
   "source": [
    "## Part 3.2\n",
    "Median problem with weighted Euclidean distance\n",
    "\n",
    "\\begin{equation}\n",
    "\\min_{x \\in \\mathbb{R}} \\sum_{i \\in \\mathcal{M}} v^i d_2(a^i, x)\n",
    "\\end{equation}\n",
    "\n",
    "where $\\mathcal{M} = \\{1, \\dots, m\\}$ and $0 ≤ v^i \\in \\mathbb{R}, \\; \\forall i \\in \\mathcal{M}$.\n",
    "\n",
    "We will here look into the Weiszfeld algorithm for solving the problem above."
   ]
  },
  {
   "cell_type": "markdown",
   "metadata": {},
   "source": [
    "## See overleaf for some of the solutions"
   ]
  },
  {
   "cell_type": "markdown",
   "metadata": {},
   "source": [
    "## 4"
   ]
  },
  {
   "cell_type": "code",
   "execution_count": 78,
   "metadata": {},
   "outputs": [],
   "source": [
    "import autograd.numpy as np\n",
    "from autograd import grad\n",
    "import time"
   ]
  },
  {
   "cell_type": "markdown",
   "metadata": {},
   "source": [
    "## A solution for implementing an apropriate stopping criterion"
   ]
  },
  {
   "cell_type": "code",
   "execution_count": null,
   "metadata": {},
   "outputs": [],
   "source": []
  },
  {
   "cell_type": "code",
   "execution_count": 166,
   "metadata": {},
   "outputs": [],
   "source": [
    "def ourWeiszfeld(A, v, epsilon = 10**(-7)):\n",
    "    \"\"\"\n",
    "    A = [a^1,..., a^i,..., a^m]^T   where   a^i = [a_1^i, a_2^i]\n",
    "    Hence, A is a m times 2 matrix\n",
    "    v = [v^1,..., v^i,..., v^m]^T   where   0<v^i \\in \\mathbb{R}, \\forall i \\in \\mathcal{M} \n",
    "    epsilon > 0\n",
    "    \"\"\"\n",
    "    m = len(A) # len(A) gives number of rows i.e. m\n",
    "    \n",
    "    # We define a test function to make the code leaner\n",
    "    def testK(k):\n",
    "        sum1 = 0\n",
    "        sum2 = 0\n",
    "        for i in range(m): \n",
    "            if i != k:\n",
    "                dist = np.linalg.norm((A[:, k], A[:, i])) # d_2(*,*) euclidean distance\n",
    "                sum1 += v[i]* (A[:, k].item(0) - A[:, i].item(0))/(dist)\n",
    "                sum2 += v[i]* (A[:, k].item(1) - A[:, i].item(1))/(dist)\n",
    "                \n",
    "        result = np.sqrt(sum1**2 + sum2**2)\n",
    "        return (result <= v[k])\n",
    "\n",
    "    \n",
    "    for k in range(m): \n",
    "        # theorem 1 test if the theorem is fulfilled for a \"k\"\n",
    "        print(k)\n",
    "        if testK(k): # do we need to pass the k? should rather not?\n",
    "            x_star = A[:, k] # could just return A[k], but this is clearer\n",
    "            return(x_star)\n",
    "    \n",
    "    # choose a starting point x = [x_1, x_2]^T, can be found solving the median problem with ||\\cdot||_2^2\n",
    "    x = np.array([0.5, 0.5])\n",
    "    \n",
    "    \n",
    "    #############################\n",
    "    # Functions for stopping ciretion\n",
    "    def sigma(x):\n",
    "        dist = np.linalg.norm(x[:, None] - A, axis = 0)\n",
    "        return np.max(dist)\n",
    "    \n",
    "    def f_d2(x):\n",
    "        return (np.sum(np.multiply(v,np.linalg.norm(x[:, None] - A, axis = 0))))\n",
    "\n",
    "    gradient = grad(f_d2)\n",
    "    \n",
    "    def stoping_criterion(x):\n",
    "        norm_grad = np.linalg.norm(gradient(x))\n",
    "        sig = sigma(x)\n",
    "        return ((norm_grad * sig)/(f_d2(x) - norm_grad * sig))\n",
    "    \n",
    "    while stoping_criterion(x) > epsilon:\n",
    "        print(stoping_criterion(x))\n",
    "        print(x)\n",
    "        \n",
    "        for j in range(len(x)):\n",
    "            enum = 0\n",
    "            deno = 0\n",
    "            \n",
    "            for i in range(m):\n",
    "                dist = np.linalg.norm((np.squeeze(np.array(A[:, i])), x))\n",
    "                enum += v[i]*A[i].item(j)/dist\n",
    "                deno += v[i]/dist\n",
    "\n",
    "            x[j] = enum/deno\n",
    "        \n",
    "    return x"
   ]
  },
  {
   "cell_type": "code",
   "execution_count": 183,
   "metadata": {},
   "outputs": [
    {
     "data": {
      "text/plain": [
       "(array([[0.1602515 , 0.23006771, 0.88370798, 0.778254  , 0.88261056,\n",
       "         0.05853288, 0.28954831, 0.67149451, 0.42790053, 0.36432006],\n",
       "        [0.7800156 , 0.78239727, 0.25341472, 0.29051009, 0.75126861,\n",
       "         0.0195349 , 0.76071425, 0.83918901, 0.41237964, 0.6506515 ]]),\n",
       " array([0.42790053, 0.41237964]),\n",
       " 0.4279005282024838,\n",
       " 0.8406344699433242)"
      ]
     },
     "execution_count": 183,
     "metadata": {},
     "output_type": "execute_result"
    }
   ],
   "source": [
    "#ourWeiszfeld(A, v)\n",
    "def testK(k):\n",
    "    sum1 = 0\n",
    "    sum2 = 0\n",
    "    for i in range(m):\n",
    "        print(sum1)\n",
    "        print(sum2)\n",
    "        if i != k:\n",
    "            dist = np.linalg.norm((A[:, k], A[:, i])) # d_2(*,*) euclidean distance\n",
    "            sum1 += v[i] * (A[:, k].item(0) - A[:, i].item(0))/(dist)\n",
    "            sum2 += v[i] * (A[:, k].item(1) - A[:, i].item(1))/(dist)\n",
    "\n",
    "    result = np.sqrt(sum1**2 + sum2**2)\n",
    "    print(result)\n",
    "    return (result <= v[k])\n",
    "\n",
    "m = len(A)\n",
    "i = 8\n",
    "A, A[:, i], A[:, i].item(0), v[i]\n",
    "\n",
    "#testK(7)"
   ]
  },
  {
   "cell_type": "markdown",
   "metadata": {},
   "source": [
    "## Gradient descent algorithm"
   ]
  },
  {
   "cell_type": "code",
   "execution_count": 5,
   "metadata": {},
   "outputs": [],
   "source": [
    "def steepestDescent(x_init, obj_func, max_iter = 10000, threshold = 10**(-10)):\n",
    "    # We create the gradient function for the objective function using autograd\n",
    "    gradient = grad(obj_func)\n",
    "    \n",
    "    # Here we initialize\n",
    "    i = 0\n",
    "    x = np.array(x_init) \n",
    "    rho = 0.4\n",
    "    c = 0.6\n",
    "    diff = np.full((len(x), 1), 100) # initialize some value\n",
    "    while i < max_iter and diff.any() > threshold: # Can use same stopping criterion as above to measure time performance\n",
    "        i += 1\n",
    "        a = 1\n",
    "        grad_k = gradient(x)\n",
    "        # I make a pk for convenience \n",
    "        pk = -grad_k\n",
    "        \n",
    "        # The following is backtracking\n",
    "        while obj_func(x + a*pk) > obj_func(x) + a*c*np.transpose(grad_k) @ pk: # i.e. repeat until not true\n",
    "            a = rho*a\n",
    "        \n",
    "        # The new x is stored\n",
    "        x = x + a*pk\n",
    "        diff = abs(a*pk)\n",
    "    return x"
   ]
  },
  {
   "cell_type": "code",
   "execution_count": 131,
   "metadata": {},
   "outputs": [
    {
     "data": {
      "text/plain": [
       "array([[0.1602515 , 0.23006771, 0.88370798, 0.778254  , 0.88261056,\n",
       "        0.05853288, 0.28954831, 0.67149451, 0.42790053, 0.36432006],\n",
       "       [0.7800156 , 0.78239727, 0.25341472, 0.29051009, 0.75126861,\n",
       "        0.0195349 , 0.76071425, 0.83918901, 0.41237964, 0.6506515 ]])"
      ]
     },
     "execution_count": 131,
     "metadata": {},
     "output_type": "execute_result"
    }
   ],
   "source": [
    "A = np.random.random(size = (2, 10))\n",
    "A"
   ]
  },
  {
   "cell_type": "code",
   "execution_count": 42,
   "metadata": {},
   "outputs": [],
   "source": [
    "x = np.array([1., 2.])\n",
    "v = np.random.rand(10)"
   ]
  },
  {
   "cell_type": "code",
   "execution_count": 7,
   "metadata": {},
   "outputs": [
    {
     "data": {
      "text/plain": [
       "array([1.2398241 , 1.81774632, 1.83631853, 1.69824264, 1.55523353,\n",
       "       1.07466948, 1.86865503, 1.61629104, 1.67317693, 1.34577181])"
      ]
     },
     "execution_count": 7,
     "metadata": {},
     "output_type": "execute_result"
    }
   ],
   "source": [
    "x[:, None] - A\n",
    "np.linalg.norm(x[:, None] - A, axis = 0)"
   ]
  },
  {
   "cell_type": "code",
   "execution_count": 10,
   "metadata": {},
   "outputs": [],
   "source": [
    "def sigma(A, x):\n",
    "    dist = np.linalg.norm(x[:, None] - A, axis = 0)\n",
    "    return np.max(dist)"
   ]
  },
  {
   "cell_type": "code",
   "execution_count": 25,
   "metadata": {},
   "outputs": [
    {
     "name": "stdout",
     "output_type": "stream",
     "text": [
      "3.1622776601683795\n"
     ]
    }
   ],
   "source": [
    "import numpy as np\n",
    "import matplotlib.pyplot as plt\n",
    "from scipy.spatial import ConvexHull, convex_hull_plot_2d   # get a convex hull computation algorithm\n",
    " \n",
    " \n",
    " \n",
    "#points = np.random.rand(10, 2)   # 30 random points in 2-D\n",
    "#hull = ConvexHull(points)\n",
    " \n",
    "#vecs = []\n",
    "#for i in range(len(hull.vertices)):\n",
    " ##   element = points[hull.vertices[i]]\n",
    " #   element = element.tolist()\n",
    " #   vecs.append(element)\n",
    " \n",
    "def distance(x_1,x_2):\n",
    "    x_1 = np.array(x_1)\n",
    "    x_2 = np.array(x_2)\n",
    "    diff = x_1 - x_2\n",
    "    return np.linalg.norm(diff, 2) \n",
    " \n",
    " \n",
    "def isCounterClockwise(n1,n2, n3):\n",
    "    return ((n1 <n2 <n3) or (n3 < n1 < n2) or (n2 < n3 < n1))\n",
    " \n",
    "def Area(vtxList, n1, n2, n3): # get area of triangle made of point 1,2, 3 from a list of vertices\n",
    "    n = len(vtxList)\n",
    "    vtx1 = vtxList[n1]\n",
    "    vtx2 = vtxList[n2]\n",
    "    vtx3 = vtxList[n3]\n",
    "    # print(vtx1, vtx2, vtx3)\n",
    "    a = distance(vtx1,vtx2)\n",
    "    b = distance(vtx3,vtx2)\n",
    "    c = distance(vtx1,vtx3)\n",
    "    s = (a + b + c) / 2\n",
    "    area = (s*(s-a)*(s-b)*(s-c)) ** 0.5\n",
    "    if isCounterClockwise(n1,n2,n3):\n",
    "        return round(area,3)\n",
    "    else:\n",
    "        return round(-area,3)\n",
    " \n",
    " \n",
    "def GetAllAntiPodalPairs(vtxList):\n",
    "    pairList = []\n",
    "    n = len(vtxList)\n",
    "    i_1 = 1\n",
    "    i_n = 0\n",
    "    i = i_n\n",
    "    j = (i + 1)%n\n",
    "    while (Area(vtxList,i, (i + 1)%n, (j + 1)%n) > Area(vtxList, i, (i + 1)%n, j)):\n",
    "        j = (j + 1)%n\n",
    "        j0 = j\n",
    "    while (j != i_1):\n",
    "        i = (i + 1)%n\n",
    "        pairList.append([i, j])\n",
    "        while ((Area(vtxList, i, (i + 1)%n, (j + 1)%n) > Area(vtxList, i, (i + 1)%n, j))):\n",
    "            j = (j + 1)%n\n",
    "            if (j != i_1):\n",
    "                pairList.append([i, j])\n",
    "        if (Area(vtxList, i, (i + 1)%n, (j + 1)%n) == Area(vtxList, i, (i + 1)%n, j)):\n",
    "            if ((i, j) != (j0, i_n)):\n",
    "                pairList.append([i, (j + 1)%n])\n",
    " \n",
    "    return(pairList)\n",
    " \n",
    " \n",
    " \n",
    "def findDiameter(polygon):\n",
    "    maxx = 0\n",
    "    antiPodalPairs = GetAllAntiPodalPairs(polygon)\n",
    "    for pair in antiPodalPairs:\n",
    "        pairPoint1 = polygon[pair[0]]\n",
    "        pairPoint2 = polygon[pair[1]]\n",
    "        candidate = distance(pairPoint1, pairPoint2)\n",
    "        if (candidate > maxx):\n",
    "            maxx = candidate\n",
    "    return maxx\n",
    " \n",
    " \n",
    "# EXAMPLE\n",
    " \n",
    "polygonZ = [[0,0], [3,0], [2,1], [0,1]]\n",
    "print(findDiameter(polygonZ))"
   ]
  },
  {
   "cell_type": "markdown",
   "metadata": {},
   "source": [
    "## 5"
   ]
  },
  {
   "cell_type": "markdown",
   "metadata": {},
   "source": [
    "Compare using precision, speed and possibly stability\n"
   ]
  },
  {
   "cell_type": "code",
   "execution_count": null,
   "metadata": {},
   "outputs": [],
   "source": []
  }
 ],
 "metadata": {
  "kernelspec": {
   "display_name": "Python 3",
   "language": "python",
   "name": "python3"
  },
  "language_info": {
   "codemirror_mode": {
    "name": "ipython",
    "version": 3
   },
   "file_extension": ".py",
   "mimetype": "text/x-python",
   "name": "python",
   "nbconvert_exporter": "python",
   "pygments_lexer": "ipython3",
   "version": "3.7.4"
  }
 },
 "nbformat": 4,
 "nbformat_minor": 2
}
