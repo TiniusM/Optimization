{
 "cells": [
  {
   "cell_type": "markdown",
   "metadata": {},
   "source": [
    "# Optimisation – Project 1"
   ]
  },
  {
   "cell_type": "markdown",
   "metadata": {},
   "source": [
    "## Part 3.2\n",
    "Median problem with weighted Euclidean distance\n",
    "\n",
    "\\begin{equation}\n",
    "\\min_{x \\in \\mathbb{R}} \\sum_{i \\in \\mathcal{M}} v^i d_2(a^i, x)\n",
    "\\end{equation}\n",
    "\n",
    "where $\\mathcal{M} = \\{1, \\dots, m\\}$ and $0 ≤ v^i \\in \\mathbb{R}, \\; \\forall i \\in \\mathcal{M}$.\n",
    "\n",
    "We will here look into the Weiszfeld algorithm for solving the problem above."
   ]
  },
  {
   "cell_type": "markdown",
   "metadata": {},
   "source": [
    "## See overleaf for some of the solutions"
   ]
  },
  {
   "cell_type": "markdown",
   "metadata": {},
   "source": [
    "## 4"
   ]
  },
  {
   "cell_type": "code",
   "execution_count": 2,
   "metadata": {},
   "outputs": [],
   "source": [
    "import numpy as np"
   ]
  },
  {
   "cell_type": "markdown",
   "metadata": {},
   "source": [
    "## A solution for implementing an apropriate stopping criterion"
   ]
  },
  {
   "cell_type": "code",
   "execution_count": 9,
   "metadata": {},
   "outputs": [
    {
     "name": "stdout",
     "output_type": "stream",
     "text": [
      "3.1622776601683795\n",
      "[0, 1]\n"
     ]
    }
   ],
   "source": [
    "import numpy as np\n",
    "import matplotlib.pyplot as plt\n",
    "from scipy.spatial import ConvexHull, convex_hull_plot_2d   # get a convex hull computation algorithm\n",
    " \n",
    " \n",
    " \n",
    "#points = np.random.rand(10, 2)   # 30 random points in 2-D\n",
    "#hull = ConvexHull(points)\n",
    " \n",
    "#vecs = []\n",
    "#for i in range(len(hull.vertices)):\n",
    " ##   element = points[hull.vertices[i]]\n",
    " #   element = element.tolist()\n",
    " #   vecs.append(element)\n",
    " \n",
    "def distance(x_1,x_2):\n",
    "    x_1 = np.array(x_1)\n",
    "    x_2 = np.array(x_2)\n",
    "    diff = x_1 - x_2\n",
    "    return np.linalg.norm(diff, 2) \n",
    " \n",
    " \n",
    "def isCounterClockwise(n1,n2, n3):\n",
    "    return ((n1 <n2 <n3) or (n3 < n1 < n2) or (n2 < n3 < n1))\n",
    " \n",
    "def Area(vtxList, n1, n2, n3): # get area of triangle made of point 1,2, 3 from a list of vertices\n",
    "    n = len(vtxList)\n",
    "    vtx1 = vtxList[n1]\n",
    "    vtx2 = vtxList[n2]\n",
    "    vtx3 = vtxList[n3]\n",
    "    # print(vtx1, vtx2, vtx3)\n",
    "    a = distance(vtx1,vtx2)\n",
    "    b = distance(vtx3,vtx2)\n",
    "    c = distance(vtx1,vtx3)\n",
    "    s = (a + b + c) / 2\n",
    "    area = (s*(s-a)*(s-b)*(s-c)) ** 0.5\n",
    "    if isCounterClockwise(n1,n2,n3):\n",
    "        return round(area,3)\n",
    "    else:\n",
    "        return round(-area,3)\n",
    " \n",
    " \n",
    "def GetAllAntiPodalPairs(vtxList):\n",
    "    pairList = []\n",
    "    n = len(vtxList)\n",
    "    i_1 = 1\n",
    "    i_n = 0\n",
    "    i = i_n\n",
    "    j = (i + 1)%n\n",
    "    while (Area(vtxList,i, (i + 1)%n, (j + 1)%n) > Area(vtxList, i, (i + 1)%n, j)):\n",
    "        j = (j + 1)%n\n",
    "        j0 = j\n",
    "    while (j != i_1):\n",
    "        i = (i + 1)%n\n",
    "        pairList.append([i, j])\n",
    "        while ((Area(vtxList, i, (i + 1)%n, (j + 1)%n) > Area(vtxList, i, (i + 1)%n, j))):\n",
    "            j = (j + 1)%n\n",
    "            if (j != i_1):\n",
    "                pairList.append([i, j])\n",
    "        if (Area(vtxList, i, (i + 1)%n, (j + 1)%n) == Area(vtxList, i, (i + 1)%n, j)):\n",
    "            if ((i, j) != (j0, i_n)):\n",
    "                pairList.append([i, (j + 1)%n])\n",
    " \n",
    "    return(pairList)\n",
    " \n",
    " \n",
    " \n",
    "def findDiameter(polygon):\n",
    "    maxx = 0\n",
    "    antiPodalPairs = GetAllAntiPodalPairs(polygon)\n",
    "    for pair in antiPodalPairs:\n",
    "        pairPoint1 = polygon[pair[0]]\n",
    "        pairPoint2 = polygon[pair[1]]\n",
    "        candidate = distance(pairPoint1, pairPoint2)\n",
    "        if (candidate > maxx):\n",
    "            maxx = candidate\n",
    "    return maxx\n",
    " \n",
    " \n",
    "# EXAMPLE\n",
    " \n",
    "polygonZ = [[0,0], [3,0], [2,1], [0,1]]\n",
    "print(findDiameter(polygonZ))"
   ]
  },
  {
   "cell_type": "code",
   "execution_count": 4,
   "metadata": {},
   "outputs": [
    {
     "ename": "SyntaxError",
     "evalue": "invalid syntax (<ipython-input-4-5bbd87de5990>, line 33)",
     "output_type": "error",
     "traceback": [
      "\u001b[0;36m  File \u001b[0;32m\"<ipython-input-4-5bbd87de5990>\"\u001b[0;36m, line \u001b[0;32m33\u001b[0m\n\u001b[0;31m    while stopping criterion not met: # Find a stopping criterion\u001b[0m\n\u001b[0m                           ^\u001b[0m\n\u001b[0;31mSyntaxError\u001b[0m\u001b[0;31m:\u001b[0m invalid syntax\n"
     ]
    }
   ],
   "source": [
    "def ourWeiszfeld(A, v, epsilon):\n",
    "    \"\"\"\n",
    "    A = [a^1,..., a^i,..., a^m]^T   where   a^i = [a_1^i, a_2^i]\n",
    "    Hence, A is a m times 2 matrix\n",
    "    v = [v^1,..., v^i,..., v^m]^T   where   0<v^i \\in \\mathbb{R}, \\forall i \\in \\mathcal{M} \n",
    "    epsilon > 0\n",
    "    \"\"\"\n",
    "    m = len(A) # len(A) gives number of rows i.e. m\n",
    "    \n",
    "    # We define a test function to make the code leaner\n",
    "    def testK(k):\n",
    "        sum1 = 0\n",
    "        sum2 = 0\n",
    "        for i in range(m): \n",
    "            if i != k:\n",
    "                dist = np.linalg.norm(A[k], A[i]) # d_2(*,*) euclidean distance\n",
    "                sum1 += v[i]* (A[k].item(0) - A[i].item(0))/(dist)\n",
    "                sum2 += v[i]* (A[k].item(1) - A[i].item(1))/(dist)\n",
    "            \n",
    "            # else: # This \"else\" might be unecasarry?\n",
    "              #  continue\n",
    "                \n",
    "        result = np.sqrt(sum1**2 + sum2**2)\n",
    "        return (result < v[k])\n",
    "    \n",
    "    for k in range(m): \n",
    "        # theorem 1 test if the theorem is fulfilled for a \"k\"\n",
    "        if testK(k): # do we need to pass the k? should rather not?\n",
    "            x_star = A[k] # could just return A[k], but this is clearer\n",
    "    \n",
    "    # choose a starting point x = [x_1, x_2]^T, can be found solving the median problem with ||\\cdot||_2^2\n",
    "    x = np.ones(len(A[0]))\n",
    "    \n",
    "    while findDiameter(x) < epsilon:\n",
    "        for j in range(x):\n",
    "            enum = 0\n",
    "            deno = 0\n",
    "            for i in range(m):\n",
    "                dist = np.linalg.norm(A[i], x)\n",
    "                enum += v[i]*A[i][j]/dist\n",
    "                deno += v[i]/dist\n",
    "\n",
    "            x[j] = enum/deno\n",
    "        \n",
    "    return x"
   ]
  },
  {
   "cell_type": "markdown",
   "metadata": {},
   "source": [
    "## Gradient descent algorithm"
   ]
  },
  {
   "cell_type": "code",
   "execution_count": 5,
   "metadata": {},
   "outputs": [],
   "source": [
    "def steepestDescent(x_init, obj_func, max_iter = 10000, threshold = 10**(-10)):\n",
    "    # We create the gradient function for the objective function using autograd\n",
    "    gradient = grad(obj_func)\n",
    "    \n",
    "    # Here we initialize\n",
    "    i = 0\n",
    "    x = np.array(x_init) \n",
    "    rho = 0.4\n",
    "    c = 0.6\n",
    "    diff = np.full((len(x), 1), 100) # initialize some value\n",
    "    while i < max_iter and diff.any() > threshold:\n",
    "        i += 1\n",
    "        a = 1\n",
    "        grad_k = gradient(x)\n",
    "        # I make a pk for convenience \n",
    "        pk = -grad_k\n",
    "        \n",
    "        # The following is backtracking\n",
    "        while obj_func(x + a*pk) > obj_func(x) + a*c*np.transpose(grad_k) @ pk: # i.e. repeat until not true\n",
    "            a = rho*a\n",
    "        \n",
    "        # The new x is stored\n",
    "        x = x + a*pk\n",
    "        diff = abs(a*pk)\n",
    "    return x"
   ]
  },
  {
   "cell_type": "code",
   "execution_count": 14,
   "metadata": {},
   "outputs": [
    {
     "name": "stdout",
     "output_type": "stream",
     "text": [
      "5\n",
      "5\n",
      "[[4 5 6]]\n",
      "[9 9 9]\n"
     ]
    }
   ],
   "source": [
    "# Here are just tests\n",
    "A = np.matrix('1 2 3; 4 5 6; 7 8 9')\n",
    "print(A.item((1, 1)))\n",
    "print(A[1].item(1))\n",
    "print(A[1])\n",
    "b = np.full(3, 9)\n",
    "print(b)"
   ]
  },
  {
   "cell_type": "markdown",
   "metadata": {},
   "source": [
    "## 5"
   ]
  },
  {
   "cell_type": "markdown",
   "metadata": {},
   "source": [
    "Compare using precision, speed and possibly stability\n"
   ]
  },
  {
   "cell_type": "code",
   "execution_count": null,
   "metadata": {},
   "outputs": [],
   "source": []
  }
 ],
 "metadata": {
  "kernelspec": {
   "display_name": "Python 3",
   "language": "python",
   "name": "python3"
  },
  "language_info": {
   "codemirror_mode": {
    "name": "ipython",
    "version": 3
   },
   "file_extension": ".py",
   "mimetype": "text/x-python",
   "name": "python",
   "nbconvert_exporter": "python",
   "pygments_lexer": "ipython3",
   "version": "3.7.4"
  }
 },
 "nbformat": 4,
 "nbformat_minor": 2
}
